{
  "nbformat": 4,
  "nbformat_minor": 0,
  "metadata": {
    "colab": {
      "provenance": [],
      "authorship_tag": "ABX9TyMID7bGQlbO6bBFoLOsgUnI",
      "include_colab_link": true
    },
    "kernelspec": {
      "name": "python3",
      "display_name": "Python 3"
    },
    "language_info": {
      "name": "python"
    }
  },
  "cells": [
    {
      "cell_type": "markdown",
      "metadata": {
        "id": "view-in-github",
        "colab_type": "text"
      },
      "source": [
        "<a href=\"https://colab.research.google.com/github/ReemAlsharabi/CS4083/blob/main/Labs/Lab4.ipynb\" target=\"_parent\"><img src=\"https://colab.research.google.com/assets/colab-badge.svg\" alt=\"Open In Colab\"/></a>"
      ]
    },
    {
      "cell_type": "markdown",
      "source": [
        "# 1. What can be done using LLMs:\n",
        "### Large Language Models (LLMs) like Jais can be used for natural language processing tasks such as text generation, text classification, question answering, summarization and translation. Some examples include:\n",
        "\n",
        "* Text generation: LLMs can generate new text like poems, stories, news articles, social media posts etc based on a given prompt.\n",
        "\n",
        "* Text classification: LLMs can classify text into predefined categories/classes like sentiment analysis to identify if a review is positive or negative.\n",
        "\n",
        "* Question answering: LLMs can answer questions based on their training. For example, Jais can answer questions in Arabic.\n",
        "\n",
        "* Summarization: LLMs can summarize long documents or multiple documents into a shorter form by extracting the key details.\n",
        "\n",
        "* Translation: Models like Jais that are trained on multiple languages can perform translation between those languages.\n"
      ],
      "metadata": {
        "id": "SpCPxXHk8hvH"
      }
    },
    {
      "cell_type": "markdown",
      "source": [
        "# 2. Arabic text processing"
      ],
      "metadata": {
        "id": "rZUTIPB78xmG"
      }
    },
    {
      "cell_type": "code",
      "execution_count": 3,
      "metadata": {
        "colab": {
          "base_uri": "https://localhost:8080/"
        },
        "id": "9uWwZ6p18b0e",
        "outputId": "5fd89701-ed86-4668-d512-67905dfacc53"
      },
      "outputs": [
        {
          "output_type": "stream",
          "name": "stdout",
          "text": [
            "['لنص', 'عرب', 'اصل', 'لاستخدام', 'ذكء', 'صطناع', 'طبق', 'رجم']\n"
          ]
        },
        {
          "output_type": "stream",
          "name": "stderr",
          "text": [
            "[nltk_data] Downloading package punkt to /root/nltk_data...\n",
            "[nltk_data]   Package punkt is already up-to-date!\n",
            "[nltk_data] Downloading package stopwords to /root/nltk_data...\n",
            "[nltk_data]   Unzipping corpora/stopwords.zip.\n"
          ]
        }
      ],
      "source": [
        "import nltk\n",
        "nltk.download('punkt')\n",
        "nltk.download('stopwords')\n",
        "\n",
        "from nltk.tokenize import word_tokenize\n",
        "from nltk.corpus import stopwords\n",
        "from nltk.stem import ISRIStemmer\n",
        "\n",
        "def preprocess_arabic_text(text):\n",
        "    # Tokenization\n",
        "    tokens = word_tokenize(text)\n",
        "\n",
        "    # Stop word removal\n",
        "    stop_words = set(stopwords.words('arabic'))\n",
        "    tokens = [token for token in tokens if token not in stop_words]\n",
        "\n",
        "    # Stemming\n",
        "    stemmer = ISRIStemmer()\n",
        "    stemmed_tokens = [stemmer.stem(token) for token in tokens]\n",
        "\n",
        "    return stemmed_tokens\n",
        "\n",
        "# Example usage\n",
        "arabic_text = \"النص العربي الأصلي لاستخدام الذكاء الاصطناعي في تطبيقات الترجمة\"\n",
        "\n",
        "processed_tokens = preprocess_arabic_text(arabic_text)\n",
        "print(processed_tokens)"
      ]
    },
    {
      "cell_type": "markdown",
      "source": [
        "# 3. References:\n",
        "https://inceptioniai.org/jais/whitepaper\n",
        "\n",
        "https://www.researchgate.net/publication/220059126_Hybrid_Stop-Word_Removal_Technique_for_Arabic_Language\n"
      ],
      "metadata": {
        "id": "rpuZ1AAF83PB"
      }
    },
    {
      "cell_type": "code",
      "source": [],
      "metadata": {
        "id": "0nZSvPNP81Pd"
      },
      "execution_count": null,
      "outputs": []
    }
  ]
}