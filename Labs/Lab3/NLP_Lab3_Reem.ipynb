{
  "nbformat": 4,
  "nbformat_minor": 0,
  "metadata": {
    "colab": {
      "provenance": [],
      "authorship_tag": "ABX9TyMbIjeWku0TiG76h/cF7Zl6",
      "include_colab_link": true
    },
    "kernelspec": {
      "name": "python3",
      "display_name": "Python 3"
    },
    "language_info": {
      "name": "python"
    }
  },
  "cells": [
    {
      "cell_type": "markdown",
      "metadata": {
        "id": "view-in-github",
        "colab_type": "text"
      },
      "source": [
        "<a href=\"https://colab.research.google.com/github/ReemAlsharabi/CS4083/blob/main/Labs/Lab3/NLP_Lab3_Reem.ipynb\" target=\"_parent\"><img src=\"https://colab.research.google.com/assets/colab-badge.svg\" alt=\"Open In Colab\"/></a>"
      ]
    },
    {
      "cell_type": "markdown",
      "source": [
        "Name: Reem Alsharabi\n",
        "\n",
        "ID: S20106353"
      ],
      "metadata": {
        "id": "gt-eHp-BueZw"
      }
    },
    {
      "cell_type": "markdown",
      "source": [
        "# Task 1"
      ],
      "metadata": {
        "id": "lawAuvxFtjcJ"
      }
    },
    {
      "cell_type": "markdown",
      "source": [
        "Data could be found [here](https://github.com/ReemAlsharabi/CS4083/blob/main/Labs/Lab3/Restaurant%20reviews.csv)"
      ],
      "metadata": {
        "id": "hzx882T2tyEs"
      }
    },
    {
      "cell_type": "code",
      "source": [
        "import pandas as pd"
      ],
      "metadata": {
        "id": "jXtAKchduk59"
      },
      "execution_count": 1,
      "outputs": []
    },
    {
      "cell_type": "code",
      "source": [
        "data = pd.read_csv('Restaurant reviews.csv')\n",
        "n = data.shape[0]\n",
        "train = data[:800]\n",
        "test = data[800:]\n",
        "x_train = train['Review']\n",
        "y_train = train['Rating']\n",
        "x_test = test['Review']\n",
        "y_test = test['Rating']"
      ],
      "metadata": {
        "id": "7fGOZuvntly_"
      },
      "execution_count": 2,
      "outputs": []
    },
    {
      "cell_type": "markdown",
      "source": [
        "This is a supervised learning problem."
      ],
      "metadata": {
        "id": "tzsbRwOfu9vg"
      }
    },
    {
      "cell_type": "markdown",
      "source": [
        "# Task 2"
      ],
      "metadata": {
        "id": "Df6AdiVsvI5V"
      }
    },
    {
      "cell_type": "code",
      "source": [
        "from nltk.tokenize import RegexpTokenizer\n",
        "from nltk.stem.porter import PorterStemmer\n",
        "from nltk.corpus import stopwords\n",
        "import nltk\n",
        "\n",
        "nltk.download('stopwords')\n",
        "\n",
        "tokenizer = RegexpTokenizer(r'\\w+')\n",
        "en_stopwords = set(stopwords.words('english'))\n",
        "ps = PorterStemmer()"
      ],
      "metadata": {
        "colab": {
          "base_uri": "https://localhost:8080/"
        },
        "id": "vs8Zk3ZCu0tL",
        "outputId": "4234dd28-cc4a-420d-d91f-819119fbf9ff"
      },
      "execution_count": 3,
      "outputs": [
        {
          "output_type": "stream",
          "name": "stderr",
          "text": [
            "[nltk_data] Downloading package stopwords to /root/nltk_data...\n",
            "[nltk_data]   Unzipping corpora/stopwords.zip.\n"
          ]
        }
      ]
    },
    {
      "cell_type": "markdown",
      "source": [
        "RegexpTokenizer is being used to tokenize the text into tokens defined as sequences of alphanumeric characters (words). So each individual word after tokenization would be considered a \"token\" for further processing."
      ],
      "metadata": {
        "id": "DZhAYo8RvPgk"
      }
    },
    {
      "cell_type": "markdown",
      "source": [
        "# Task 3"
      ],
      "metadata": {
        "id": "mSpDY2o0vZtu"
      }
    },
    {
      "cell_type": "code",
      "source": [
        "def cleanText(text):\n",
        "  tokens = tokenizer.tokenize(text)\n",
        "  cleaned_tokens = [token for token in tokens if token not in en_stopwords]\n",
        "  stemmed_tokens = [ps.stem(token) for token in cleaned_tokens]\n",
        "\n",
        "  clean_text=\" \".join(stemmed_tokens)\n",
        "  return clean_text"
      ],
      "metadata": {
        "id": "Fr56kXFQvOw4"
      },
      "execution_count": 10,
      "outputs": []
    },
    {
      "cell_type": "markdown",
      "source": [
        "# Task 4"
      ],
      "metadata": {
        "id": "xuy3-Wzrvljg"
      }
    },
    {
      "cell_type": "code",
      "source": [
        "# Clean x_train\n",
        "x_clean = []\n",
        "for review in x_train:\n",
        "  clean_review = cleanText(str(review))\n",
        "  x_clean.append(clean_review)\n",
        "\n",
        "# Clean x_test\n",
        "xt_clean = []\n",
        "for review in x_test:\n",
        "  clean_review = cleanText(str(review))\n",
        "  xt_clean.append(clean_review)"
      ],
      "metadata": {
        "id": "q5fhDVtjvhoc"
      },
      "execution_count": 13,
      "outputs": []
    },
    {
      "cell_type": "markdown",
      "source": [
        "# Task 5"
      ],
      "metadata": {
        "id": "iqVxS5rMwjGl"
      }
    },
    {
      "cell_type": "code",
      "source": [
        "from sklearn.feature_extraction.text import CountVectorizer\n",
        "\n",
        "cv=CountVectorizer(ngram_range=(1,2))\n",
        "\n",
        "x_vec=cv.fit_transform(x_clean).toarray()\n",
        "\n",
        "x_vec"
      ],
      "metadata": {
        "colab": {
          "base_uri": "https://localhost:8080/"
        },
        "id": "Txqy0ofXvrnh",
        "outputId": "c807013f-7645-4f0f-8b1d-89ab4eb8af30"
      },
      "execution_count": 15,
      "outputs": [
        {
          "output_type": "execute_result",
          "data": {
            "text/plain": [
              "array([[0, 0, 0, ..., 0, 0, 0],\n",
              "       [0, 0, 0, ..., 0, 0, 0],\n",
              "       [0, 0, 0, ..., 0, 0, 0],\n",
              "       ...,\n",
              "       [0, 0, 0, ..., 0, 0, 0],\n",
              "       [0, 0, 0, ..., 0, 0, 0],\n",
              "       [0, 0, 0, ..., 0, 0, 0]])"
            ]
          },
          "metadata": {},
          "execution_count": 15
        }
      ]
    },
    {
      "cell_type": "markdown",
      "source": [
        "# Task 6"
      ],
      "metadata": {
        "id": "C3kTUiLmwpBF"
      }
    },
    {
      "cell_type": "code",
      "source": [
        "cv.get_feature_names_out()"
      ],
      "metadata": {
        "colab": {
          "base_uri": "https://localhost:8080/"
        },
        "id": "8s6rqqqGwmDr",
        "outputId": "9dfdf3c6-d5c3-4f51-814c-0db05fd0bd23"
      },
      "execution_count": 16,
      "outputs": [
        {
          "output_type": "execute_result",
          "data": {
            "text/plain": [
              "array(['00', '00 complet', '00 zomato', ..., 'zomoto support',\n",
              "       'zomoto team', 'zomoto togeth'], dtype=object)"
            ]
          },
          "metadata": {},
          "execution_count": 16
        }
      ]
    },
    {
      "cell_type": "markdown",
      "source": [
        "n = 2 (bigrams)\n",
        "\n",
        "This helps capture meaningful word combinations and context beyond single words alone."
      ],
      "metadata": {
        "id": "LOWTu1XQw_gb"
      }
    },
    {
      "cell_type": "markdown",
      "source": [
        "# Task 7"
      ],
      "metadata": {
        "id": "VvYT2Fl7xKGt"
      }
    },
    {
      "cell_type": "code",
      "source": [
        "xt_vec = cv.transform(xt_clean).toarray()"
      ],
      "metadata": {
        "id": "29R3BLIpwx_k"
      },
      "execution_count": 18,
      "outputs": []
    },
    {
      "cell_type": "markdown",
      "source": [
        "# Task 8"
      ],
      "metadata": {
        "id": "T1aLDseSxZs8"
      }
    },
    {
      "cell_type": "code",
      "source": [
        "from sklearn.naive_bayes import MultinomialNB\n",
        "\n",
        "mn = MultinomialNB()\n",
        "mn.fit(x_vec, y_train)\n",
        "\n",
        "y_pred = mn.predict(xt_vec)\n",
        "\n",
        "print(y_pred)"
      ],
      "metadata": {
        "colab": {
          "base_uri": "https://localhost:8080/"
        },
        "id": "9kBPa2ilxX0Z",
        "outputId": "8a7187b6-1483-4e7d-fa59-5a81696f2f7c"
      },
      "execution_count": 20,
      "outputs": [
        {
          "output_type": "stream",
          "name": "stdout",
          "text": [
            "['5' '5' '5' ... '5' '5' '4']\n"
          ]
        }
      ]
    },
    {
      "cell_type": "code",
      "source": [],
      "metadata": {
        "id": "G61IwD_YxfyE"
      },
      "execution_count": null,
      "outputs": []
    }
  ]
}