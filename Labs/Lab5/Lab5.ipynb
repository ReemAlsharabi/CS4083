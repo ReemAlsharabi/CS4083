{
  "nbformat": 4,
  "nbformat_minor": 0,
  "metadata": {
    "colab": {
      "provenance": [],
      "authorship_tag": "ABX9TyONk4aX1jJiALfa5ajo+Y6s",
      "include_colab_link": true
    },
    "kernelspec": {
      "name": "python3",
      "display_name": "Python 3"
    },
    "language_info": {
      "name": "python"
    }
  },
  "cells": [
    {
      "cell_type": "markdown",
      "metadata": {
        "id": "view-in-github",
        "colab_type": "text"
      },
      "source": [
        "<a href=\"https://colab.research.google.com/github/ReemAlsharabi/CS4083/blob/main/Labs/Lab5/Lab5.ipynb\" target=\"_parent\"><img src=\"https://colab.research.google.com/assets/colab-badge.svg\" alt=\"Open In Colab\"/></a>"
      ]
    },
    {
      "cell_type": "markdown",
      "source": [
        "[Data](https://github.com/ReemAlsharabi/CS4083/tree/main/Labs/Lab5/Data)\n",
        "\n",
        "[Source](https://www.voiptroubleshooter.com/open_speech/american.html)\n",
        "\n",
        "Reem S20106353"
      ],
      "metadata": {
        "id": "WWDtxO4dFWIb"
      }
    },
    {
      "cell_type": "code",
      "source": [
        "!pip install SpeechRecognition"
      ],
      "metadata": {
        "colab": {
          "base_uri": "https://localhost:8080/"
        },
        "id": "BvO4YQWKEb8o",
        "outputId": "7fc75fa9-4590-40f7-b86e-1425c853c355"
      },
      "execution_count": 6,
      "outputs": [
        {
          "output_type": "stream",
          "name": "stdout",
          "text": [
            "Requirement already satisfied: SpeechRecognition in /usr/local/lib/python3.10/dist-packages (3.10.0)\n",
            "Requirement already satisfied: requests>=2.26.0 in /usr/local/lib/python3.10/dist-packages (from SpeechRecognition) (2.31.0)\n",
            "Requirement already satisfied: charset-normalizer<4,>=2 in /usr/local/lib/python3.10/dist-packages (from requests>=2.26.0->SpeechRecognition) (3.3.2)\n",
            "Requirement already satisfied: idna<4,>=2.5 in /usr/local/lib/python3.10/dist-packages (from requests>=2.26.0->SpeechRecognition) (3.4)\n",
            "Requirement already satisfied: urllib3<3,>=1.21.1 in /usr/local/lib/python3.10/dist-packages (from requests>=2.26.0->SpeechRecognition) (2.0.7)\n",
            "Requirement already satisfied: certifi>=2017.4.17 in /usr/local/lib/python3.10/dist-packages (from requests>=2.26.0->SpeechRecognition) (2023.7.22)\n"
          ]
        }
      ]
    },
    {
      "cell_type": "code",
      "source": [
        "!pip install pydub"
      ],
      "metadata": {
        "colab": {
          "base_uri": "https://localhost:8080/"
        },
        "id": "xr801Oy-EZfn",
        "outputId": "943c66be-b26a-48d3-ebd0-f9a11e39a437"
      },
      "execution_count": 7,
      "outputs": [
        {
          "output_type": "stream",
          "name": "stdout",
          "text": [
            "Collecting pydub\n",
            "  Downloading pydub-0.25.1-py2.py3-none-any.whl (32 kB)\n",
            "Installing collected packages: pydub\n",
            "Successfully installed pydub-0.25.1\n"
          ]
        }
      ]
    },
    {
      "cell_type": "code",
      "source": [
        "import speech_recognition as sr\n",
        "from pydub import AudioSegment\n",
        "\n",
        "# Convert audio file to WAV format (if needed)\n",
        "audio_file = 'sample.mp3'  # Replace with your audio file path\n",
        "wav_file = 'sample.wav'  # Replace with desired output WAV file path\n",
        "\n",
        "audio = AudioSegment.from_file(audio_file)\n",
        "audio.export(wav_file, format='wav')\n",
        "\n",
        "# Create a recognizer object\n",
        "r = sr.Recognizer()\n",
        "\n",
        "# Recognize speech from the WAV file\n",
        "with sr.AudioFile(wav_file) as source:\n",
        "    audio = r.record(source)\n",
        "\n",
        "    try:\n",
        "        text = r.recognize_google(audio)\n",
        "        print(\"You said:\", text)\n",
        "    except sr.UnknownValueError:\n",
        "        print(\"Unable to recognize speech\")\n",
        "    except sr.RequestError as e:\n",
        "        print(\"Error occurred: {0}\".format(e))"
      ],
      "metadata": {
        "colab": {
          "base_uri": "https://localhost:8080/"
        },
        "id": "gxiwXeScD_Z6",
        "outputId": "9229561e-af42-44e8-a75b-59cfec086e7b"
      },
      "execution_count": 9,
      "outputs": [
        {
          "output_type": "stream",
          "name": "stdout",
          "text": [
            "You said: the birds canoe slid on the smooth pranks glue the sheet to the dark blue background it is easy to tell the depth of a well these days a chicken leg is a rare dish rice is often served in round Bowls the juice of lemons makes wine punch the box was thrown beside the park truck the Hogs are fed chopped corn and garbage 4 hours of study work face does a large size and stockings is hard to sell\n"
          ]
        }
      ]
    },
    {
      "cell_type": "code",
      "source": [],
      "metadata": {
        "id": "HBC-YNb5EGMp"
      },
      "execution_count": null,
      "outputs": []
    }
  ]
}